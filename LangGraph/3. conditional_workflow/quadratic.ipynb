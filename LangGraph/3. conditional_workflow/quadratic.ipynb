{
 "cells": [
  {
   "cell_type": "code",
   "execution_count": 13,
   "id": "92b7cbd8",
   "metadata": {},
   "outputs": [],
   "source": [
    "from langchain_google_genai import ChatGoogleGenerativeAI\n",
    "from langgraph.graph import StateGraph, START , END\n",
    "from typing import TypedDict, Annotated, Literal\n",
    "from dotenv import load_dotenv\n",
    "from pydantic import BaseModel, Field\n",
    "\n",
    "\n",
    "load_dotenv()\n",
    "model = ChatGoogleGenerativeAI(model=\"gemini-1.5-flash\")"
   ]
  },
  {
   "cell_type": "code",
   "execution_count": 4,
   "id": "e486ae27",
   "metadata": {},
   "outputs": [],
   "source": [
    "class QuadState(TypedDict):\n",
    "\n",
    "    a: int \n",
    "    b: int\n",
    "    c:int\n",
    "    equation : str\n",
    "    discriminant : float\n",
    "    result : str"
   ]
  },
  {
   "cell_type": "code",
   "execution_count": null,
   "id": "564b2488",
   "metadata": {},
   "outputs": [],
   "source": []
  },
  {
   "cell_type": "code",
   "execution_count": 5,
   "id": "3ba49bf1",
   "metadata": {},
   "outputs": [],
   "source": [
    "def show_equation(state: QuadState):\n",
    "\n",
    "    equation = f'{state['a']}x2{state['b']}x{state['c']}'\n",
    "\n",
    "    return {'equation':equation}\n",
    "\n",
    "def calculate_discriminant(state: QuadState):\n",
    "\n",
    "    discriminant = state['b']**2 - (4*state['a']*state['c'])\n",
    "\n",
    "    return {'discriminant':discriminant}"
   ]
  },
  {
   "cell_type": "code",
   "execution_count": 26,
   "id": "9e29b150",
   "metadata": {},
   "outputs": [],
   "source": [
    "def real_roots(state: QuadState):\n",
    "    root1 = (-state['b'] + state['discriminant']**0.5/(2*state['a']))\n",
    "    root2 = (-state['b'] - state['discriminant']**0.5/(2*state['a']))\n",
    "\n",
    "    result = f'The roots are {root1} and {root2}'\n",
    "\n",
    "    return {'result':result}\n",
    "\n",
    "def repeated_roots(state: QuadState):\n",
    "    root = (-state['b'])/(2*state['a'])\n",
    "\n",
    "    result = f'Only repeating root is {root}'\n",
    "\n",
    "    return {'result':result}\n",
    "\n",
    "def no_real_roots(state: QuadState):\n",
    "    result = f'No real roots.'\n",
    "\n",
    "    return {'result':result}\n",
    "\n",
    "def check_condition(state:QuadState) -> Literal['real_roots','repeated_roots','no_real_roots']:\n",
    "    \n",
    "    if state['discriminant'] > 0:\n",
    "        return 'real_roots'\n",
    "    elif state['descriminant'] == 0:\n",
    "        return 'repeated_roots'\n",
    "    else:\n",
    "        return 'no_real_roots'\n"
   ]
  },
  {
   "cell_type": "code",
   "execution_count": 27,
   "id": "18fe6afc",
   "metadata": {},
   "outputs": [],
   "source": [
    "graph = StateGraph(QuadState)\n",
    "# ------------- Nodes --------------\n",
    "graph.add_node('show_eqaution',show_equation)\n",
    "graph.add_node('calculate_discriminant',calculate_discriminant)\n",
    "graph.add_node('real_roots',real_roots)\n",
    "graph.add_node('repeated_roots',repeated_roots)\n",
    "graph.add_node('no_real_roots',no_real_roots)\n",
    "\n",
    "# ------------ Edges --------------\n",
    "graph.add_edge(START,'show_eqaution')\n",
    "graph.add_edge('show_eqaution','calculate_discriminant')\n",
    "graph.add_conditional_edges('calculate_discriminant',check_condition)\n",
    "\n",
    "graph.add_edge('real_roots',END)\n",
    "graph.add_edge('repeated_roots',END)\n",
    "graph.add_edge('no_real_roots',END)\n",
    "\n",
    "workflow = graph.compile()\n"
   ]
  },
  {
   "cell_type": "code",
   "execution_count": 28,
   "id": "75639077",
   "metadata": {},
   "outputs": [
    {
     "data": {
      "image/png": "[encoded data removed]",
      "text/plain": [
       "<langgraph.graph.state.CompiledStateGraph object at 0x0000018E9F2A5450>"
      ]
     },
     "execution_count": 28,
     "metadata": {},
     "output_type": "execute_result"
    }
   ],
   "source": [
    "workflow"
   ]
  },
  {
   "cell_type": "code",
   "execution_count": 29,
   "id": "5a255636",
   "metadata": {},
   "outputs": [
    {
     "data": {
      "text/plain": [
       "{'a': 4,\n",
       " 'b': -5,\n",
       " 'c': -4,\n",
       " 'equation': '4x2-5x-4',\n",
       " 'discriminant': 89,\n",
       " 'result': 'The roots are 6.179247641507075 and 3.820752358492925'}"
      ]
     },
     "execution_count": 29,
     "metadata": {},
     "output_type": "execute_result"
    }
   ],
   "source": [
    "initial_state = {\n",
    "    'a':4,\n",
    "    'b':-5,\n",
    "    'c':-4\n",
    "}\n",
    "\n",
    "workflow.invoke(initial_state)"
   ]
  },
  {
   "cell_type": "code",
   "execution_count": null,
   "id": "704647de",
   "metadata": {},
   "outputs": [],
   "source": []
  }
 ],
 "metadata": {
  "kernelspec": {
   "display_name": "langvenv",
   "language": "python",
   "name": "python3"
  },
  "language_info": {
   "codemirror_mode": {
    "name": "ipython",
    "version": 3
   },
   "file_extension": ".py",
   "mimetype": "text/x-python",
   "name": "python",
   "nbconvert_exporter": "python",
   "pygments_lexer": "ipython3",
   "version": "3.13.3"
  }
 },
 "nbformat": 4,
 "nbformat_minor": 5
}
