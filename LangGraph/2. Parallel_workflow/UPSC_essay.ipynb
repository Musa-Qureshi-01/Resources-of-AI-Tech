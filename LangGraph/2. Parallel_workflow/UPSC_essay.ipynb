{
 "cells": [
  {
   "cell_type": "code",
   "execution_count": 10,
   "id": "114d4c94",
   "metadata": {},
   "outputs": [],
   "source": [
    "from langchain_google_genai import ChatGoogleGenerativeAI\n",
    "from langgraph.graph import StateGraph, START , END\n",
    "from typing import TypedDict, Annotated\n",
    "from dotenv import load_dotenv\n",
    "from pydantic import BaseModel, Field"
   ]
  },
  {
   "cell_type": "code",
   "execution_count": 4,
   "id": "46e85eed",
   "metadata": {},
   "outputs": [],
   "source": [
    "load_dotenv()\n",
    "model = ChatGoogleGenerativeAI(model=\"gemini-1.5-flash\")"
   ]
  },
  {
   "cell_type": "code",
   "execution_count": 5,
   "id": "0cd75513",
   "metadata": {},
   "outputs": [],
   "source": [
    "class EvaluationSchema(BaseModel):\n",
    "    \n",
    "    feedback : str = Field(description = 'Detailed feedback for the essay')\n",
    "    score : int = Field(description='Score out of 10', ge=0, le=10)"
   ]
  },
  {
   "cell_type": "code",
   "execution_count": 6,
   "id": "51582a17",
   "metadata": {},
   "outputs": [],
   "source": [
    "structured_model = model.with_structured_output(EvaluationSchema)"
   ]
  },
  {
   "cell_type": "code",
   "execution_count": 7,
   "id": "caf56055",
   "metadata": {},
   "outputs": [],
   "source": [
    "essay =  \"\"\"\n",
    "Generative AI (GenAI) is designed to produce content such as text, images, code, or music based on specific user prompts or instructions.\n",
    "\n",
    "Agentic AI is built to autonomously perform multi-step, goal-oriented tasks with minimal human intervention, making decisions and taking actions proactively.\n",
    "\n",
    "GenAI is reactive; it responds to user input by generating outputs, while Agentic AI is proactive, initiating actions and solving problems without waiting for direct instructions.\n",
    "\n",
    "GenAI excels in creative automation, content drafting, summarization, and transforming technical information into plain language.\n",
    "\n",
    "Agentic AI specializes in workflow automation, decision-making, coordinating across tools and platforms, and adjusting tasks dynamically if circumstances change.\n",
    "\n",
    "GenAI’s underlying technologies include generative adversarial networks (GANs) and transformer models (e.g., GPT, BERT).\n",
    "\n",
    "Agentic AI relies on reinforcement learning, multi-agent systems, decision trees, robotics frameworks, and sensor fusion for environmental interaction.\n",
    "\n",
    "GenAI requires step-by-step user direction for each output; Agentic AI operates independently once given a goal, adapting as needed to reach the objective.\n",
    "\n",
    "GenAI’s output is typically creative and informational, meant to assist, inspire, or communicate, but generally non-functional.\n",
    "\n",
    "Agentic AI’s output is functional, involving navigation, execution of business processes, problem-solving, or coordination tasks.\n",
    "\n",
    "GenAI’s strengths include speed, enhancement of human innovation, and scalability in content creation.\n",
    "\n",
    "Agentic AI’s strengths are autonomy, efficiency, adaptability, and scalability for handling complex, dynamic environments.\n",
    "\n",
    "GenAI can be limited by its training data, leading to biased or nonsensical outputs; careful prompting and fact-checking are essential.\n",
    "\n",
    "Agentic AI introduces complexity in orchestration, security, and ethical oversight due to its independent decision-making ability.\n",
    "\n",
    "\"\"\""
   ]
  },
  {
   "cell_type": "code",
   "execution_count": 9,
   "id": "a0624e7f",
   "metadata": {},
   "outputs": [
    {
     "data": {
      "text/plain": [
       "EvaluationSchema(feedback='The essay provides a clear and concise comparison of Generative AI and Agentic AI, highlighting their key differences in functionality, underlying technologies, strengths, and limitations.  The language used is precise and accessible, making the information easy to understand.  A minor improvement could be to add a concluding sentence summarizing the overall distinctions between the two types of AI. ', score=9)"
      ]
     },
     "execution_count": 9,
     "metadata": {},
     "output_type": "execute_result"
    }
   ],
   "source": [
    "prompt = f'Evalute the language qulaity of the folloiwng essay and provide a feedback and assign a score out of 10 \\n {essay}'\n",
    "\n",
    "structured_model.invoke(prompt)"
   ]
  },
  {
   "cell_type": "code",
   "execution_count": 21,
   "id": "54e395eb",
   "metadata": {},
   "outputs": [],
   "source": [
    "import operator \n",
    "\n",
    "class UPSCSState(TypedDict):\n",
    "\n",
    "    essay : str\n",
    "    language_feedback : str\n",
    "    analysis_feedback : str\n",
    "    clarity_feedback : str\n",
    "\n",
    "    overall_feedback : str\n",
    "    individual_scores : Annotated[list[int], operator.add]  # Reducer func to add list[] + [] + []\n",
    "\n",
    "    avg_score : float"
   ]
  },
  {
   "cell_type": "code",
   "execution_count": 22,
   "id": "9037774d",
   "metadata": {},
   "outputs": [],
   "source": [
    "def evalute_language(state: UPSCSState):\n",
    "    prompt = f'Evalute the language qulaity of the folloiwng essay and provide a feedback and assign a score out of 10 \\n {essay}'\n",
    "    output = structured_model.invoke(prompt)\n",
    "    return { 'language_feedback': output.feedback, 'individual_scores':[output.score]}"
   ]
  },
  {
   "cell_type": "code",
   "execution_count": 23,
   "id": "216cd0bd",
   "metadata": {},
   "outputs": [],
   "source": [
    "def evalute_analysis(state: UPSCSState):\n",
    "    prompt = f'Evalute the depth of analysis of the folloiwng essay and provide a feedback and assign a score out of 10 \\n {essay}'\n",
    "    output = structured_model.invoke(prompt)\n",
    "    return { 'analysis_feedback': output.feedback, 'individual_scores':[output.score]}"
   ]
  },
  {
   "cell_type": "code",
   "execution_count": 24,
   "id": "210111cb",
   "metadata": {},
   "outputs": [],
   "source": [
    "def evalute_thought(state: UPSCSState):\n",
    "    prompt = f'Evalute the clarity of thought of the folloiwng essay and provide a feedback and assign a score out of 10 \\n {essay}'\n",
    "    output = structured_model.invoke(prompt)\n",
    "    return { 'clarity_feedback': output.feedback, 'individual_scores':[output.score]}"
   ]
  },
  {
   "cell_type": "code",
   "execution_count": 25,
   "id": "5e87916d",
   "metadata": {},
   "outputs": [],
   "source": [
    "def final_evalaution(state: UPSCSState):\n",
    "\n",
    "    # summary feedback\n",
    "    prompt = f'Based on the following feedbacks create a summarized feedback \\n Language feedback - {state['language_feedback']} \\n Depth of analysis feedback - {state['analysis_feedback']} \\n Clarity of thought - {state['clarity_feedback']}'\n",
    "\n",
    "    overall_feedback = model.invoke(prompt).content\n",
    "    \n",
    "\n",
    "    #  avg claculate \n",
    "    avg_score = sum(state['individual_scores'])/len((state['individual_scores']))\n",
    "\n",
    "    return {'overall_feedback' : overall_feedback, 'avg_score':avg_score }"
   ]
  },
  {
   "cell_type": "code",
   "execution_count": 37,
   "id": "efe2c65d",
   "metadata": {},
   "outputs": [],
   "source": [
    "graph = StateGraph(UPSCSState)\n",
    "\n",
    "graph.add_node('evalute_language',evalute_language)\n",
    "graph.add_node('evalute_analysis',evalute_analysis)\n",
    "graph.add_node('evalute_thought',evalute_thought)\n",
    "graph.add_node('final_evalaution',final_evalaution)\n",
    "\n",
    "# ----------- Edges -----------\n",
    "\n",
    "graph.add_edge(START, 'evalute_language')\n",
    "graph.add_edge(START, 'evalute_analysis')\n",
    "graph.add_edge(START, 'evalute_thought')\n",
    "\n",
    "graph.add_edge('evalute_language', 'final_evalaution')\n",
    "graph.add_edge('evalute_analysis', 'final_evalaution')\n",
    "graph.add_edge('evalute_thought', 'final_evalaution')\n",
    "\n",
    "graph.add_edge('final_evalaution', END)\n",
    "\n",
    "workflow = graph.compile()\n"
   ]
  },
  {
   "cell_type": "code",
   "execution_count": 41,
   "id": "9ae7d27a",
   "metadata": {},
   "outputs": [
    {
     "data": {
      "image/png": "[encoded data removed]",
      "text/plain": [
       "<langgraph.graph.state.CompiledStateGraph object at 0x000002617E1F5450>"
      ]
     },
     "execution_count": 41,
     "metadata": {},
     "output_type": "execute_result"
    }
   ],
   "source": [
    "workflow"
   ]
  },
  {
   "cell_type": "code",
   "execution_count": 52,
   "id": "4a8f3060",
   "metadata": {},
   "outputs": [],
   "source": [
    "initial_state = {\n",
    "    'essay':essay2\n",
    "}\n",
    "\n",
    "final_output = workflow.invoke(initial_state)"
   ]
  },
  {
   "cell_type": "code",
   "execution_count": 53,
   "id": "afac08c6",
   "metadata": {},
   "outputs": [
    {
     "data": {
      "text/plain": [
       "{'essay': '\\n\\nGenAI use thingz like GANS, transformatrs like GPT or BERT n other AI stuff.\\n\\nAgentik AI use learnin stuff, multy-agent thingys, decision trez, robott stuff n sensors 2 kno wat around.\\n\\nGenAI need u 2 tell step by step wat 2 do, Agentik AI just do goal stuff by itself.\\n\\nGenAI make creative or info stuff 2 help ppl, Agentik AI make useful stuff like solv probz or do taskz.\\n\\nGenAI fast, helps ppl make lots of stuff, can make many thingz.\\n\\nAgentik AI do stuff by itself, efficent, adapt if needd, can handle complx stuffz.\\n\\nGenAI somtime give bad or bias stuff, u need check it.\\n\\nAgentik AI more complicatd, can hav securty or ethic probz becuz it do stuff it self.\\n',\n",
       " 'language_feedback': 'The essay provides a clear and concise comparison of Generative AI and Agentic AI, highlighting their key differences in functionality, underlying technologies, strengths, and limitations.  The language used is precise and accessible, effectively conveying complex concepts.  There is a logical structure and flow throughout the essay. Minor improvements could be made by incorporating a concluding paragraph that summarizes the main points and perhaps suggests future directions in the field. ',\n",
       " 'analysis_feedback': 'The essay provides a clear and concise comparison of Generative AI and Agentic AI, outlining their key differences in functionality, underlying technologies, strengths, and limitations.  However, the analysis lacks depth.  It primarily focuses on descriptive definitions and contrasting features rather than exploring nuanced aspects such as the potential overlap between the two types of AI, the ethical implications in more detail, or the future evolution and convergence of these technologies.  For instance, it could benefit from discussing how GenAI could be integrated into Agentic AI systems or exploring the societal impact of each type beyond simple statements about bias or security. A deeper exploration of specific examples and case studies would further enhance the analysis.',\n",
       " 'clarity_feedback': 'The essay clearly defines and differentiates Generative AI and Agentic AI, highlighting their key characteristics, applications, underlying technologies, strengths, and limitations. The comparative structure enhances understanding.  Minor improvements could include a concluding paragraph summarizing the key distinctions and perhaps briefly discussing potential overlaps or synergistic uses of both types of AI.',\n",
       " 'overall_feedback': 'The essay effectively compares Generative and Agentic AI, clearly outlining their differences in functionality, technology, strengths, and limitations.  The language is precise and the structure logical. However, the analysis lacks depth.  It needs to move beyond descriptive comparisons to explore nuanced aspects like potential overlaps, ethical implications, future evolution, and societal impact with specific examples and case studies.  A concluding paragraph summarizing key points and suggesting future directions is also recommended.',\n",
       " 'individual_scores': [6, 9, 9],\n",
       " 'avg_score': 8.0}"
      ]
     },
     "execution_count": 53,
     "metadata": {},
     "output_type": "execute_result"
    }
   ],
   "source": [
    "final_output"
   ]
  },
  {
   "cell_type": "code",
   "execution_count": 51,
   "id": "eb572815",
   "metadata": {},
   "outputs": [],
   "source": [
    "essay2 = '''\n",
    "\n",
    "GenAI use thingz like GANS, transformatrs like GPT or BERT n other AI stuff.\n",
    "\n",
    "Agentik AI use learnin stuff, multy-agent thingys, decision trez, robott stuff n sensors 2 kno wat around.\n",
    "\n",
    "GenAI need u 2 tell step by step wat 2 do, Agentik AI just do goal stuff by itself.\n",
    "\n",
    "GenAI make creative or info stuff 2 help ppl, Agentik AI make useful stuff like solv probz or do taskz.\n",
    "\n",
    "GenAI fast, helps ppl make lots of stuff, can make many thingz.\n",
    "\n",
    "Agentik AI do stuff by itself, efficent, adapt if needd, can handle complx stuffz.\n",
    "\n",
    "GenAI somtime give bad or bias stuff, u need check it.\n",
    "\n",
    "Agentik AI more complicatd, can hav securty or ethic probz becuz it do stuff it self.\n",
    "'''"
   ]
  },
  {
   "cell_type": "code",
   "execution_count": null,
   "id": "fcdea3ed",
   "metadata": {},
   "outputs": [],
   "source": []
  }
 ],
 "metadata": {
  "kernelspec": {
   "display_name": "langvenv",
   "language": "python",
   "name": "python3"
  },
  "language_info": {
   "codemirror_mode": {
    "name": "ipython",
    "version": 3
   },
   "file_extension": ".py",
   "mimetype": "text/x-python",
   "name": "python",
   "nbconvert_exporter": "python",
   "pygments_lexer": "ipython3",
   "version": "3.13.3"
  }
 },
 "nbformat": 4,
 "nbformat_minor": 5
}
