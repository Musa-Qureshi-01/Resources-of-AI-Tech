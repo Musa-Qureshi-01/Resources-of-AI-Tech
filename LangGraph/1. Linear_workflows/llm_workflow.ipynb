{
 "cells": [
  {
   "cell_type": "code",
   "execution_count": 17,
   "id": "440aaa43",
   "metadata": {},
   "outputs": [],
   "source": [
    "from langchain_google_genai import ChatGoogleGenerativeAI\n",
    "from langgraph.graph import StateGraph, START , END\n",
    "from typing import TypedDict\n",
    "from dotenv import load_dotenv"
   ]
  },
  {
   "cell_type": "code",
   "execution_count": 18,
   "id": "8c568c46",
   "metadata": {},
   "outputs": [],
   "source": [
    "load_dotenv()\n",
    "model = ChatGoogleGenerativeAI(model=\"gemini-1.5-flash\")"
   ]
  },
  {
   "cell_type": "code",
   "execution_count": 19,
   "id": "72dc9739",
   "metadata": {},
   "outputs": [],
   "source": [
    "class LLMState(TypedDict):\n",
    "\n",
    "    question: str \n",
    "    answer : str "
   ]
  },
  {
   "cell_type": "code",
   "execution_count": 23,
   "id": "45f8bfa6",
   "metadata": {},
   "outputs": [],
   "source": [
    "def llm_qa(state: LLMState) -> LLMState:\n",
    "    # extract the que from state \n",
    "    question = state['question']\n",
    "\n",
    "    # form a prompt \n",
    "    prompt = f'Answer the following question {question}'\n",
    "\n",
    "    answer = model.invoke(prompt).content\n",
    "\n",
    "    return {\n",
    "    \"question\": question,\n",
    "    \"answer\": answer\n",
    "}\n"
   ]
  },
  {
   "cell_type": "code",
   "execution_count": 24,
   "id": "a427e1ef",
   "metadata": {},
   "outputs": [],
   "source": [
    "# create our graph \n",
    "\n",
    "graph = StateGraph(LLMState)\n",
    "\n",
    "graph.add_node('llm_qa',llm_qa)\n",
    "\n",
    "graph.add_edge(START, 'llm_qa')\n",
    "graph.add_edge('llm_qa', END)\n",
    "\n",
    "workflow = graph.compile()"
   ]
  },
  {
   "cell_type": "code",
   "execution_count": 25,
   "id": "a74f311c",
   "metadata": {},
   "outputs": [
    {
     "name": "stdout",
     "output_type": "stream",
     "text": [
      "{'question': 'How far is moon from the earth ?', 'answer': \"The distance between the Earth and the Moon is not constant because the Moon's orbit is elliptical.  However, the average distance is approximately **238,855 miles (384,400 kilometers)**.\"}\n"
     ]
    }
   ],
   "source": [
    "# execute\n",
    "initial_state = {'question':'How far is moon from the earth ?'}\n",
    "\n",
    "final_state = workflow.invoke(initial_state)\n",
    "\n",
    "print(final_state)"
   ]
  },
  {
   "cell_type": "code",
   "execution_count": null,
   "id": "ba9d8e1e",
   "metadata": {},
   "outputs": [],
   "source": []
  }
 ],
 "metadata": {
  "kernelspec": {
   "display_name": "langvenv",
   "language": "python",
   "name": "python3"
  },
  "language_info": {
   "codemirror_mode": {
    "name": "ipython",
    "version": 3
   },
   "file_extension": ".py",
   "mimetype": "text/x-python",
   "name": "python",
   "nbconvert_exporter": "python",
   "pygments_lexer": "ipython3",
   "version": "3.13.3"
  }
 },
 "nbformat": 4,
 "nbformat_minor": 5
}
