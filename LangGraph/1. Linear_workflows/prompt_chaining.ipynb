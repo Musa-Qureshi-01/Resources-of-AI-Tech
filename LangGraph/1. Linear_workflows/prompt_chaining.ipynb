{
 "cells": [
  {
   "cell_type": "code",
   "execution_count": 1,
   "id": "52e41531",
   "metadata": {},
   "outputs": [],
   "source": [
    "from langchain_google_genai import ChatGoogleGenerativeAI\n",
    "from langgraph.graph import StateGraph, START , END\n",
    "from typing import TypedDict\n",
    "from dotenv import load_dotenv"
   ]
  },
  {
   "cell_type": "code",
   "execution_count": 2,
   "id": "10359d38",
   "metadata": {},
   "outputs": [],
   "source": [
    "load_dotenv()\n",
    "model = ChatGoogleGenerativeAI(model=\"gemini-1.5-flash\")"
   ]
  },
  {
   "cell_type": "code",
   "execution_count": 4,
   "id": "d31c8980",
   "metadata": {},
   "outputs": [],
   "source": [
    "class BlogState(TypedDict):\n",
    "    title : str \n",
    "    outline : str\n",
    "    content : str"
   ]
  },
  {
   "cell_type": "code",
   "execution_count": 5,
   "id": "6c7a1f21",
   "metadata": {},
   "outputs": [],
   "source": [
    "def create_outline(state: BlogState) -> BlogState:\n",
    "    title = state['title']\n",
    "\n",
    "    prompt = f'Generate a detailed outline for a blog on the topic of {title}'\n",
    "    outline = model.invoke(prompt).content\n",
    "\n",
    "    state['outline'] = outline \n",
    "\n",
    "    return state "
   ]
  },
  {
   "cell_type": "code",
   "execution_count": 6,
   "id": "7411eb76",
   "metadata": {},
   "outputs": [],
   "source": [
    "def create_blog(state: BlogState) -> BlogState:\n",
    "    title = state['title'] \n",
    "    outline = state['outline']\n",
    "\n",
    "    prompt = f'Write a detailed blog on the title - {title} using the following outline \\n {outline}.'\n",
    "\n",
    "    content = model.invoke(prompt).content\n",
    "\n",
    "    state['content'] = content\n",
    "\n",
    "    return state"
   ]
  },
  {
   "cell_type": "code",
   "execution_count": 7,
   "id": "cf150a4c",
   "metadata": {},
   "outputs": [],
   "source": [
    "graph = StateGraph(BlogState)\n",
    "\n",
    "# nodes \n",
    "graph.add_node('create_outline', create_outline)\n",
    "graph.add_node('create_blog', create_blog)\n",
    "\n",
    "# edges\n",
    "graph.add_edge(START, 'create_outline')\n",
    "graph.add_edge('create_outline', 'create_blog')\n",
    "graph.add_edge('create_blog', END)\n",
    "\n",
    "workflow = graph.compile()"
   ]
  },
  {
   "cell_type": "code",
   "execution_count": 8,
   "id": "7b841a4e",
   "metadata": {},
   "outputs": [
    {
     "name": "stdout",
     "output_type": "stream",
     "text": [
      "{'title': 'Rise of AI in India.', 'outline': \"## Blog Outline: The Rise of AI in India: Opportunities and Challenges\\n\\n**I. Introduction (approx. 100 words)**\\n\\n* **Hook:** Start with a compelling statistic or anecdote illustrating AI's growing presence in India (e.g., investment figures, a specific AI application's success story).\\n* **Context:** Briefly define AI and its various applications.\\n* **Thesis Statement:**  Clearly state the blog's focus – exploring the rapid growth of AI in India, highlighting its opportunities and challenges.  Mention the dual nature of the topic – exciting potential alongside hurdles.\\n\\n\\n**II.  The Current State of AI in India (approx. 300 words)**\\n\\n* **Government Initiatives:** Discuss government policies and programs promoting AI (e.g., National AI Strategy, Digital India).  Mention funding and support provided.\\n* **Industry Adoption:** Analyze the adoption of AI across various sectors (healthcare, agriculture, finance, etc.).  Provide specific examples of companies leveraging AI.\\n* **Research and Development:** Highlight the contributions of Indian academic institutions and research labs in the field of AI.  Mention any prominent researchers or breakthroughs.\\n* **Talent Pool:** Discuss the availability and skillset of AI professionals in India.  Mention the growing number of AI courses and bootcamps.\\n\\n\\n**III. Opportunities Presented by AI in India (approx. 300 words)**\\n\\n* **Economic Growth:** Explain how AI can boost economic growth through increased efficiency, automation, and innovation. Provide specific examples (e.g., improved agricultural yields, streamlined financial processes).\\n* **Social Impact:** Discuss the potential of AI to address social challenges like poverty, healthcare access, and education.  Provide examples (e.g., AI-powered diagnostics, personalized learning platforms).\\n* **Global Competitiveness:** Analyze how AI can enhance India's position in the global technology landscape.  Discuss the potential for India to become a leading AI hub.\\n* **New Job Creation:** While automation may displace some jobs, highlight the emergence of new roles and opportunities in AI development, implementation, and maintenance.\\n\\n\\n**IV. Challenges Facing AI Development in India (approx. 300 words)**\\n\\n* **Data Availability and Quality:** Discuss the challenges related to data scarcity, data privacy concerns, and the need for high-quality, labelled datasets.\\n* **Infrastructure Limitations:** Address the need for robust infrastructure (computing power, internet access) to support widespread AI adoption.\\n* **Skills Gap:** Highlight the existing gap between the demand for AI professionals and the supply of skilled individuals. Discuss the need for upskilling and reskilling initiatives.\\n* **Ethical Concerns:** Discuss ethical considerations surrounding AI, such as bias in algorithms, job displacement, and the potential misuse of AI technologies.\\n* **Regulatory Framework:** Analyze the need for a comprehensive regulatory framework to govern the development and deployment of AI in India.\\n\\n\\n**V.  The Future of AI in India (approx. 200 words)**\\n\\n* **Predictions:** Offer informed predictions about the future trajectory of AI in India based on current trends and challenges.\\n* **Potential Breakthroughs:** Highlight areas where India has the potential to make significant contributions to AI research and development.\\n* **Call to Action:** Encourage readers to engage with the topic further, perhaps by suggesting resources for learning more about AI or participating in related initiatives.\\n\\n\\n**VI. Conclusion (approx. 100 words)**\\n\\n* **Recap:** Briefly summarize the key opportunities and challenges discussed.\\n* **Final Thought:** Offer a concluding thought on the overall significance of AI's rise in India and its potential impact on the nation's future.\\n\\n\\n**VII.  Call to Action (approx. 50 words)**\\n\\n* Encourage readers to share their thoughts, ask questions, and engage in the comments section.\\n\\n\\n**VIII.  Resources (optional)**\\n\\n* Link to relevant government websites, research papers, and news articles.\\n\\n\\nThis detailed outline provides a comprehensive structure for a blog post on the rise of AI in India.  Remember to use compelling visuals, data visualizations, and real-world examples to make the content engaging and informative.\", 'content': \"## The Rise of AI in India: Opportunities and Challenges\\n\\n**I. Introduction**\\n\\nIndia's burgeoning technological landscape is witnessing an unprecedented surge in Artificial Intelligence (AI).  With investments exceeding $1 billion in 2022 alone and success stories like Reliance Jio's AI-powered customer service platform, the nation is rapidly establishing itself as a significant player in the global AI arena.  Artificial Intelligence, encompassing machine learning, deep learning, natural language processing, and computer vision, is transforming industries and impacting daily life in myriad ways. This blog explores the rapid growth of AI in India, examining the exciting opportunities it presents alongside the significant challenges that must be overcome.\\n\\n\\n**II. The Current State of AI in India**\\n\\nThe Indian government has recognized AI's transformative potential and is actively fostering its development.  The National AI Strategy, coupled with initiatives like Digital India, provides a strategic framework for AI adoption, offering funding and support to research institutions, startups, and businesses.  This includes financial incentives and collaborations with international organizations.\\n\\nIndustry adoption is accelerating across sectors.  In healthcare, companies are using AI for disease diagnosis, drug discovery, and personalized medicine.  Agriculture benefits from AI-powered precision farming techniques optimizing resource allocation and crop yields.  The financial sector leverages AI for fraud detection, risk management, and algorithmic trading.  Companies like Tata Consultancy Services (TCS), Infosys, and Wipro are heavily invested in AI solutions, providing services globally.\\n\\nIndian academic institutions, including the Indian Institutes of Technology (IITs) and the Indian Institutes of Science (IISc), are contributing significantly to AI research.  Researchers are making breakthroughs in areas like computer vision, natural language processing, and machine learning, attracting global attention.  The talent pool is expanding rapidly, fueled by a growing number of AI courses and bootcamps offered by universities and private institutions.  However, bridging the skills gap remains a significant challenge.\\n\\n\\n**III. Opportunities Presented by AI in India**\\n\\nAI holds immense potential to propel India's economic growth. Automation and increased efficiency across sectors will boost productivity and competitiveness.  For example, AI-powered irrigation systems can optimize water usage in agriculture, leading to higher yields and reduced water stress.  In finance, AI can streamline processes, reduce costs, and improve customer service.\\n\\nAI can significantly impact India's social fabric.  AI-powered diagnostic tools can improve healthcare access in remote areas, while personalized learning platforms can revolutionize education, catering to individual student needs.  AI can also help address issues like poverty and traffic management through data-driven solutions.\\n\\nBy becoming a global leader in AI, India can attract significant foreign investment, create high-skilled jobs, and solidify its position as a major technology player.  The nation's large, diverse population and multilingual context present unique opportunities for developing AI solutions adaptable to global markets.  This competitive advantage needs careful nurturing.\\n\\nThe rise of AI will inevitably create new job opportunities in areas like AI development, data science, AI ethics, and AI-related services, offsetting potential job displacement in other sectors.\\n\\n\\n**IV. Challenges Facing AI Development in India**\\n\\nDespite the opportunities, several challenges hinder AI's progress in India.  Data availability and quality are major concerns.  While India generates vast amounts of data, much of it is unstructured, unlabeled, and lacks the quality required for training sophisticated AI models.  Data privacy concerns also need careful consideration and robust regulations.\\n\\nRobust infrastructure, including high-speed internet access and powerful computing resources, is essential for widespread AI adoption.  Currently, there's a significant digital divide, limiting access to these resources in many parts of the country.\\n\\nThe skills gap remains a significant obstacle.  While the number of AI professionals is growing, it's not keeping pace with the demand.  Upskilling and reskilling initiatives are crucial to bridge this gap.\\n\\nEthical considerations surrounding AI are paramount.  Bias in algorithms, job displacement, and the potential misuse of AI technologies require careful attention and proactive measures to mitigate risks.  A strong ethical framework is needed to guide AI development and deployment.\\n\\nA comprehensive regulatory framework is essential to govern AI's development and deployment, ensuring responsible innovation, addressing ethical concerns, and fostering trust.  This framework must balance innovation with safety and societal well-being.\\n\\n\\n**V. The Future of AI in India**\\n\\nThe future of AI in India appears bright, with significant potential for growth and innovation.  We can expect to see continued government support, increased private sector investment, and further advancements in AI research.  India's strengths in software development, data science, and its large pool of engineers provide a solid foundation for future breakthroughs.  Areas like AI-driven healthcare, personalized education, and sustainable agriculture are poised for significant advancements.\\n\\nIndia has the potential to become a global leader in specific AI niches, leveraging its unique strengths and addressing global challenges.  This requires a concerted effort to address the challenges discussed earlier.\\n\\n\\n**VI. Conclusion**\\n\\nThe rise of AI in India presents a unique blend of opportunities and challenges.  While the potential economic and social benefits are enormous, addressing issues related to data, infrastructure, skills, ethics, and regulation is crucial for realizing this potential.  Navigating these challenges effectively will determine India's success in harnessing the transformative power of AI and shaping its future.\\n\\n\\n**VII. Call to Action**\\n\\nShare your thoughts on the future of AI in India. What are the biggest opportunities and challenges you foresee?  Let's discuss in the comments below!\\n\\n\\n**VIII. Resources**\\n\\n* [Link to the National AI Strategy document]\\n* [Link to relevant government websites]\\n* [Links to research papers and news articles]\"}\n"
     ]
    }
   ],
   "source": [
    "initial_state = {'title':'Rise of AI in India.'}\n",
    "\n",
    "final_state = workflow.invoke(initial_state)\n",
    "\n",
    "print(final_state)"
   ]
  },
  {
   "cell_type": "code",
   "execution_count": 9,
   "id": "e0613558",
   "metadata": {},
   "outputs": [
    {
     "name": "stdout",
     "output_type": "stream",
     "text": [
      "## The Rise of AI in India: Opportunities and Challenges\n",
      "\n",
      "**I. Introduction**\n",
      "\n",
      "India's burgeoning technological landscape is witnessing an unprecedented surge in Artificial Intelligence (AI).  With investments exceeding $1 billion in 2022 alone and success stories like Reliance Jio's AI-powered customer service platform, the nation is rapidly establishing itself as a significant player in the global AI arena.  Artificial Intelligence, encompassing machine learning, deep learning, natural language processing, and computer vision, is transforming industries and impacting daily life in myriad ways. This blog explores the rapid growth of AI in India, examining the exciting opportunities it presents alongside the significant challenges that must be overcome.\n",
      "\n",
      "\n",
      "**II. The Current State of AI in India**\n",
      "\n",
      "The Indian government has recognized AI's transformative potential and is actively fostering its development.  The National AI Strategy, coupled with initiatives like Digital India, provides a strategic framework for AI adoption, offering funding and support to research institutions, startups, and businesses.  This includes financial incentives and collaborations with international organizations.\n",
      "\n",
      "Industry adoption is accelerating across sectors.  In healthcare, companies are using AI for disease diagnosis, drug discovery, and personalized medicine.  Agriculture benefits from AI-powered precision farming techniques optimizing resource allocation and crop yields.  The financial sector leverages AI for fraud detection, risk management, and algorithmic trading.  Companies like Tata Consultancy Services (TCS), Infosys, and Wipro are heavily invested in AI solutions, providing services globally.\n",
      "\n",
      "Indian academic institutions, including the Indian Institutes of Technology (IITs) and the Indian Institutes of Science (IISc), are contributing significantly to AI research.  Researchers are making breakthroughs in areas like computer vision, natural language processing, and machine learning, attracting global attention.  The talent pool is expanding rapidly, fueled by a growing number of AI courses and bootcamps offered by universities and private institutions.  However, bridging the skills gap remains a significant challenge.\n",
      "\n",
      "\n",
      "**III. Opportunities Presented by AI in India**\n",
      "\n",
      "AI holds immense potential to propel India's economic growth. Automation and increased efficiency across sectors will boost productivity and competitiveness.  For example, AI-powered irrigation systems can optimize water usage in agriculture, leading to higher yields and reduced water stress.  In finance, AI can streamline processes, reduce costs, and improve customer service.\n",
      "\n",
      "AI can significantly impact India's social fabric.  AI-powered diagnostic tools can improve healthcare access in remote areas, while personalized learning platforms can revolutionize education, catering to individual student needs.  AI can also help address issues like poverty and traffic management through data-driven solutions.\n",
      "\n",
      "By becoming a global leader in AI, India can attract significant foreign investment, create high-skilled jobs, and solidify its position as a major technology player.  The nation's large, diverse population and multilingual context present unique opportunities for developing AI solutions adaptable to global markets.  This competitive advantage needs careful nurturing.\n",
      "\n",
      "The rise of AI will inevitably create new job opportunities in areas like AI development, data science, AI ethics, and AI-related services, offsetting potential job displacement in other sectors.\n",
      "\n",
      "\n",
      "**IV. Challenges Facing AI Development in India**\n",
      "\n",
      "Despite the opportunities, several challenges hinder AI's progress in India.  Data availability and quality are major concerns.  While India generates vast amounts of data, much of it is unstructured, unlabeled, and lacks the quality required for training sophisticated AI models.  Data privacy concerns also need careful consideration and robust regulations.\n",
      "\n",
      "Robust infrastructure, including high-speed internet access and powerful computing resources, is essential for widespread AI adoption.  Currently, there's a significant digital divide, limiting access to these resources in many parts of the country.\n",
      "\n",
      "The skills gap remains a significant obstacle.  While the number of AI professionals is growing, it's not keeping pace with the demand.  Upskilling and reskilling initiatives are crucial to bridge this gap.\n",
      "\n",
      "Ethical considerations surrounding AI are paramount.  Bias in algorithms, job displacement, and the potential misuse of AI technologies require careful attention and proactive measures to mitigate risks.  A strong ethical framework is needed to guide AI development and deployment.\n",
      "\n",
      "A comprehensive regulatory framework is essential to govern AI's development and deployment, ensuring responsible innovation, addressing ethical concerns, and fostering trust.  This framework must balance innovation with safety and societal well-being.\n",
      "\n",
      "\n",
      "**V. The Future of AI in India**\n",
      "\n",
      "The future of AI in India appears bright, with significant potential for growth and innovation.  We can expect to see continued government support, increased private sector investment, and further advancements in AI research.  India's strengths in software development, data science, and its large pool of engineers provide a solid foundation for future breakthroughs.  Areas like AI-driven healthcare, personalized education, and sustainable agriculture are poised for significant advancements.\n",
      "\n",
      "India has the potential to become a global leader in specific AI niches, leveraging its unique strengths and addressing global challenges.  This requires a concerted effort to address the challenges discussed earlier.\n",
      "\n",
      "\n",
      "**VI. Conclusion**\n",
      "\n",
      "The rise of AI in India presents a unique blend of opportunities and challenges.  While the potential economic and social benefits are enormous, addressing issues related to data, infrastructure, skills, ethics, and regulation is crucial for realizing this potential.  Navigating these challenges effectively will determine India's success in harnessing the transformative power of AI and shaping its future.\n",
      "\n",
      "\n",
      "**VII. Call to Action**\n",
      "\n",
      "Share your thoughts on the future of AI in India. What are the biggest opportunities and challenges you foresee?  Let's discuss in the comments below!\n",
      "\n",
      "\n",
      "**VIII. Resources**\n",
      "\n",
      "* [Link to the National AI Strategy document]\n",
      "* [Link to relevant government websites]\n",
      "* [Links to research papers and news articles]\n"
     ]
    }
   ],
   "source": [
    "print(final_state['content'])"
   ]
  },
  {
   "cell_type": "code",
   "execution_count": null,
   "id": "df4ed7aa",
   "metadata": {},
   "outputs": [],
   "source": []
  }
 ],
 "metadata": {
  "kernelspec": {
   "display_name": "langvenv",
   "language": "python",
   "name": "python3"
  },
  "language_info": {
   "codemirror_mode": {
    "name": "ipython",
    "version": 3
   },
   "file_extension": ".py",
   "mimetype": "text/x-python",
   "name": "python",
   "nbconvert_exporter": "python",
   "pygments_lexer": "ipython3",
   "version": "3.13.3"
  }
 },
 "nbformat": 4,
 "nbformat_minor": 5
}
