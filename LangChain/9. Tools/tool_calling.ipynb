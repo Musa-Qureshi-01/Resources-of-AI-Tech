{
 "cells": [
  {
   "cell_type": "code",
   "execution_count": 1,
   "id": "91c932ba",
   "metadata": {},
   "outputs": [],
   "source": [
    "!pip install -q langchain-openai langchain-core requests"
   ]
  },
  {
   "cell_type": "code",
   "execution_count": 5,
   "id": "420de48f",
   "metadata": {},
   "outputs": [],
   "source": [
    "from langchain_google_genai import ChatGoogleGenerativeAI\n",
    "from langchain_core.tools import tool\n",
    "from langchain_core.messages import HumanMessage\n",
    "import requests"
   ]
  },
  {
   "cell_type": "code",
   "execution_count": null,
   "id": "26f05778",
   "metadata": {},
   "outputs": [],
   "source": [
    "model = ChatGoogleGenerativeAI(model=\"gemini-1.5-flash\")\n"
   ]
  },
  {
   "cell_type": "markdown",
   "id": "c121e06a",
   "metadata": {},
   "source": [
    "Tool Creation"
   ]
  },
  {
   "cell_type": "code",
   "execution_count": 10,
   "id": "40c4986a",
   "metadata": {},
   "outputs": [
    {
     "name": "stdout",
     "output_type": "stream",
     "text": [
      "12\n",
      "multiply\n",
      "Given 2 numbers a and b this tool returns their product\n",
      "{'a': {'title': 'A', 'type': 'integer'}, 'b': {'title': 'B', 'type': 'integer'}}\n"
     ]
    }
   ],
   "source": [
    "\n",
    "@tool\n",
    "def multiply(a: int, b: int) -> int:\n",
    "  \"\"\"Given 2 numbers a and b this tool returns their product\"\"\"\n",
    "  return a * b\n",
    "\n",
    "print(multiply.invoke({'a':3, 'b':4}))\n",
    "print(multiply.name)\n",
    "print(multiply.description)\n",
    "print(multiply.args)"
   ]
  },
  {
   "cell_type": "markdown",
   "id": "b6a387f3",
   "metadata": {},
   "source": [
    "Tool Binding"
   ]
  },
  {
   "cell_type": "code",
   "execution_count": 11,
   "id": "72d91aef",
   "metadata": {},
   "outputs": [
    {
     "data": {
      "text/plain": [
       "AIMessage(content='Hi there! How can I help you today?', additional_kwargs={}, response_metadata={'prompt_feedback': {'block_reason': 0, 'safety_ratings': []}, 'finish_reason': 'STOP', 'model_name': 'gemini-1.5-flash', 'safety_ratings': []}, id='run--46844c13-4f3d-4f91-85d5-6ffcf7a252be-0', usage_metadata={'input_tokens': 1, 'output_tokens': 11, 'total_tokens': 12, 'input_token_details': {'cache_read': 0}})"
      ]
     },
     "execution_count": 11,
     "metadata": {},
     "output_type": "execute_result"
    }
   ],
   "source": [
    "model.invoke('Hi')"
   ]
  },
  {
   "cell_type": "code",
   "execution_count": 12,
   "id": "8382a711",
   "metadata": {},
   "outputs": [],
   "source": [
    "llm_with_tool = model.bind_tools([multiply])"
   ]
  },
  {
   "cell_type": "code",
   "execution_count": 15,
   "id": "214f1c38",
   "metadata": {},
   "outputs": [
    {
     "data": {
      "text/plain": [
       "AIMessage(content='Hello! How can I help you today?', additional_kwargs={}, response_metadata={'prompt_feedback': {'block_reason': 0, 'safety_ratings': []}, 'finish_reason': 'STOP', 'model_name': 'gemini-1.5-flash', 'safety_ratings': []}, id='run--3647467a-20ff-4671-9359-aa689dad2bd9-0', usage_metadata={'input_tokens': 21, 'output_tokens': 10, 'total_tokens': 31, 'input_token_details': {'cache_read': 0}})"
      ]
     },
     "execution_count": 15,
     "metadata": {},
     "output_type": "execute_result"
    }
   ],
   "source": [
    "llm_with_tool.invoke('Hi')"
   ]
  },
  {
   "cell_type": "code",
   "execution_count": 57,
   "id": "a597a880",
   "metadata": {},
   "outputs": [],
   "source": [
    "query = HumanMessage('can you multiply 3 with 1000')"
   ]
  },
  {
   "cell_type": "code",
   "execution_count": 58,
   "id": "d5b5ab0f",
   "metadata": {},
   "outputs": [
    {
     "data": {
      "text/plain": [
       "[HumanMessage(content='can you multiply 3 with 1000', additional_kwargs={}, response_metadata={})]"
      ]
     },
     "execution_count": 58,
     "metadata": {},
     "output_type": "execute_result"
    }
   ],
   "source": [
    "message = [query]\n",
    "message"
   ]
  },
  {
   "cell_type": "markdown",
   "id": "02355f84",
   "metadata": {},
   "source": [
    "Tool Execution"
   ]
  },
  {
   "cell_type": "code",
   "execution_count": 59,
   "id": "0f887e27",
   "metadata": {},
   "outputs": [],
   "source": [
    "# result = llm_with_tool.invoke('can you multiply 3 with 10')\n",
    "result = llm_with_tool.invoke(message)"
   ]
  },
  {
   "cell_type": "code",
   "execution_count": 60,
   "id": "9a6ec73a",
   "metadata": {},
   "outputs": [],
   "source": [
    "message.append(result)"
   ]
  },
  {
   "cell_type": "code",
   "execution_count": 61,
   "id": "9ae5922a",
   "metadata": {},
   "outputs": [
    {
     "data": {
      "text/plain": [
       "{'name': 'multiply',\n",
       " 'args': {'b': 1000.0, 'a': 3.0},\n",
       " 'id': '4026d5c0-3a6c-4edd-8ba7-73360b997e9d',\n",
       " 'type': 'tool_call'}"
      ]
     },
     "execution_count": 61,
     "metadata": {},
     "output_type": "execute_result"
    }
   ],
   "source": [
    "result.tool_calls[0]"
   ]
  },
  {
   "cell_type": "code",
   "execution_count": 62,
   "id": "9b9559bd",
   "metadata": {},
   "outputs": [],
   "source": [
    "tool_result = multiply.invoke(result.tool_calls[0])"
   ]
  },
  {
   "cell_type": "code",
   "execution_count": 63,
   "id": "34f6f7d5",
   "metadata": {},
   "outputs": [
    {
     "data": {
      "text/plain": [
       "[HumanMessage(content='can you multiply 3 with 1000', additional_kwargs={}, response_metadata={}),\n",
       " AIMessage(content='', additional_kwargs={'function_call': {'name': 'multiply', 'arguments': '{\"b\": 1000.0, \"a\": 3.0}'}}, response_metadata={'prompt_feedback': {'block_reason': 0, 'safety_ratings': []}, 'finish_reason': 'STOP', 'model_name': 'gemini-1.5-flash', 'safety_ratings': []}, id='run--9803bda4-8a8c-4d6c-9450-305a787f9b3d-0', tool_calls=[{'name': 'multiply', 'args': {'b': 1000.0, 'a': 3.0}, 'id': '4026d5c0-3a6c-4edd-8ba7-73360b997e9d', 'type': 'tool_call'}], usage_metadata={'input_tokens': 31, 'output_tokens': 5, 'total_tokens': 36, 'input_token_details': {'cache_read': 0}})]"
      ]
     },
     "execution_count": 63,
     "metadata": {},
     "output_type": "execute_result"
    }
   ],
   "source": [
    "message"
   ]
  },
  {
   "cell_type": "code",
   "execution_count": 64,
   "id": "752506e5",
   "metadata": {},
   "outputs": [],
   "source": [
    "message.append(tool_result)"
   ]
  },
  {
   "cell_type": "code",
   "execution_count": 65,
   "id": "5f16e1cf",
   "metadata": {},
   "outputs": [
    {
     "data": {
      "text/plain": [
       "[HumanMessage(content='can you multiply 3 with 1000', additional_kwargs={}, response_metadata={}),\n",
       " AIMessage(content='', additional_kwargs={'function_call': {'name': 'multiply', 'arguments': '{\"b\": 1000.0, \"a\": 3.0}'}}, response_metadata={'prompt_feedback': {'block_reason': 0, 'safety_ratings': []}, 'finish_reason': 'STOP', 'model_name': 'gemini-1.5-flash', 'safety_ratings': []}, id='run--9803bda4-8a8c-4d6c-9450-305a787f9b3d-0', tool_calls=[{'name': 'multiply', 'args': {'b': 1000.0, 'a': 3.0}, 'id': '4026d5c0-3a6c-4edd-8ba7-73360b997e9d', 'type': 'tool_call'}], usage_metadata={'input_tokens': 31, 'output_tokens': 5, 'total_tokens': 36, 'input_token_details': {'cache_read': 0}}),\n",
       " ToolMessage(content='3000', name='multiply', tool_call_id='4026d5c0-3a6c-4edd-8ba7-73360b997e9d')]"
      ]
     },
     "execution_count": 65,
     "metadata": {},
     "output_type": "execute_result"
    }
   ],
   "source": [
    "message"
   ]
  },
  {
   "cell_type": "code",
   "execution_count": 66,
   "id": "29efb7ff",
   "metadata": {},
   "outputs": [
    {
     "data": {
      "text/plain": [
       "'3 multiplied by 1000 is 3000.'"
      ]
     },
     "execution_count": 66,
     "metadata": {},
     "output_type": "execute_result"
    }
   ],
   "source": [
    "llm_with_tool.invoke(message).content"
   ]
  },
  {
   "cell_type": "code",
   "execution_count": null,
   "id": "f379409a",
   "metadata": {},
   "outputs": [],
   "source": []
  }
 ],
 "metadata": {
  "kernelspec": {
   "display_name": "base",
   "language": "python",
   "name": "python3"
  },
  "language_info": {
   "codemirror_mode": {
    "name": "ipython",
    "version": 3
   },
   "file_extension": ".py",
   "mimetype": "text/x-python",
   "name": "python",
   "nbconvert_exporter": "python",
   "pygments_lexer": "ipython3",
   "version": "3.12.7"
  }
 },
 "nbformat": 4,
 "nbformat_minor": 5
}
