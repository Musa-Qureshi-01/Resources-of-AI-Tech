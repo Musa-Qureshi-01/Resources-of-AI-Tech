{
 "cells": [
  {
   "cell_type": "markdown",
   "id": "a3a60384",
   "metadata": {},
   "source": [
    "# Custome Tool"
   ]
  },
  {
   "cell_type": "markdown",
   "id": "0a6ee056",
   "metadata": {},
   "source": [
    "1. Method - Using @tools Decorator"
   ]
  },
  {
   "cell_type": "code",
   "execution_count": 4,
   "id": "bdebee37",
   "metadata": {},
   "outputs": [],
   "source": [
    "from langchain_community.tools import tool\n",
    "\n",
    "# create a func \n",
    "def mult(a,b):\n",
    "    '''-----Multiply----- '''\n",
    "    return a*b"
   ]
  },
  {
   "cell_type": "code",
   "execution_count": 5,
   "id": "3764df36",
   "metadata": {},
   "outputs": [],
   "source": [
    "# add type hints \n",
    "\n",
    "def mult(a:int, b:int) -> int:\n",
    "    '''-----Multiply----- '''\n",
    "    return a*b"
   ]
  },
  {
   "cell_type": "code",
   "execution_count": 6,
   "id": "9fbf68d9",
   "metadata": {},
   "outputs": [],
   "source": [
    "# add tool decorator\n",
    "\n",
    "@tool\n",
    "def mult(a:int, b:int) -> int:\n",
    "    '''-----Multiply----- '''\n",
    "    return a*b"
   ]
  },
  {
   "cell_type": "code",
   "execution_count": 7,
   "id": "c47b271e",
   "metadata": {},
   "outputs": [
    {
     "name": "stdout",
     "output_type": "stream",
     "text": [
      "20\n"
     ]
    }
   ],
   "source": [
    "result = mult.invoke({'a':4, 'b':5})\n",
    "print(result)"
   ]
  },
  {
   "cell_type": "code",
   "execution_count": 9,
   "id": "eae08f16",
   "metadata": {},
   "outputs": [
    {
     "name": "stdout",
     "output_type": "stream",
     "text": [
      "mult\n",
      "-----Multiply-----\n",
      "{'a': {'title': 'A', 'type': 'integer'}, 'b': {'title': 'B', 'type': 'integer'}}\n"
     ]
    }
   ],
   "source": [
    "print(mult.name)\n",
    "print(mult.description)\n",
    "print(mult.args)"
   ]
  },
  {
   "cell_type": "code",
   "execution_count": 10,
   "id": "b9b5e368",
   "metadata": {},
   "outputs": [
    {
     "name": "stdout",
     "output_type": "stream",
     "text": [
      "Requirement already satisfied: pydantic in c:\\users\\musaq\\anaconda3\\lib\\site-packages (2.8.2)\n",
      "Requirement already satisfied: annotated-types>=0.4.0 in c:\\users\\musaq\\anaconda3\\lib\\site-packages (from pydantic) (0.6.0)\n",
      "Requirement already satisfied: pydantic-core==2.20.1 in c:\\users\\musaq\\anaconda3\\lib\\site-packages (from pydantic) (2.20.1)\n",
      "Requirement already satisfied: typing-extensions>=4.6.1 in c:\\users\\musaq\\anaconda3\\lib\\site-packages (from pydantic) (4.14.0)\n"
     ]
    }
   ],
   "source": [
    "!pip install pydantic"
   ]
  },
  {
   "cell_type": "markdown",
   "id": "74563192",
   "metadata": {},
   "source": [
    "2. Method - Using Structured tool & Pydantic"
   ]
  },
  {
   "cell_type": "code",
   "execution_count": 11,
   "id": "c79a685b",
   "metadata": {},
   "outputs": [],
   "source": [
    "from langchain_community.tools import StructuredTool\n",
    "from pydantic import BaseModel, Field"
   ]
  },
  {
   "cell_type": "code",
   "execution_count": 12,
   "id": "21d846b6",
   "metadata": {},
   "outputs": [],
   "source": [
    "class Mult_input(BaseModel):\n",
    "    a: int = Field(required=True, description='The first no. to add')\n",
    "    b: int = Field(required=True, description='The second no. to add')"
   ]
  },
  {
   "cell_type": "code",
   "execution_count": 13,
   "id": "efe64e80",
   "metadata": {},
   "outputs": [],
   "source": [
    "def mult_func(a:int, b:int) -> int:\n",
    "    return a*b"
   ]
  },
  {
   "cell_type": "code",
   "execution_count": 15,
   "id": "b5590759",
   "metadata": {},
   "outputs": [],
   "source": [
    "mult_tool = StructuredTool.from_function(\n",
    "    func = mult_func,\n",
    "    name = 'Multiply',\n",
    "    description = 'Multiply two numbers.',\n",
    "    args_schema = Mult_input\n",
    ")"
   ]
  },
  {
   "cell_type": "code",
   "execution_count": 17,
   "id": "9d694798",
   "metadata": {},
   "outputs": [
    {
     "name": "stdout",
     "output_type": "stream",
     "text": [
      "36\n",
      "Multiply\n",
      "Multiply two numbers.\n",
      "{'a': {'description': 'The first no. to add', 'required': True, 'title': 'A', 'type': 'integer'}, 'b': {'description': 'The second no. to add', 'required': True, 'title': 'B', 'type': 'integer'}}\n"
     ]
    }
   ],
   "source": [
    "result = mult_tool.invoke({'a':4,'b':9})\n",
    "\n",
    "print(result)\n",
    "print(mult_tool.name)\n",
    "print(mult_tool.description)\n",
    "print(mult_tool.args)"
   ]
  },
  {
   "cell_type": "markdown",
   "id": "37ba7cab",
   "metadata": {},
   "source": [
    "3. Method - Using BaseTool Class\n"
   ]
  },
  {
   "cell_type": "code",
   "execution_count": 21,
   "id": "afb9a8ce",
   "metadata": {},
   "outputs": [],
   "source": [
    "from langchain.tools import BaseTool\n",
    "from typing import Type"
   ]
  },
  {
   "cell_type": "code",
   "execution_count": 23,
   "id": "7a050327",
   "metadata": {},
   "outputs": [],
   "source": [
    "# args _schema same as previous \n",
    "\n",
    "class Mult_input(BaseModel):\n",
    "    a: int = Field(required=True, description='The first no. to add')\n",
    "    b: int = Field(required=True, description='The second no. to add')\n"
   ]
  },
  {
   "cell_type": "code",
   "execution_count": 32,
   "id": "c6c904dc",
   "metadata": {},
   "outputs": [],
   "source": [
    "class Mult_Tool(BaseTool):\n",
    "    name: str = \"Multiply\", \n",
    "    description: str = 'Multiply two numbers.',\n",
    "\n",
    "    args_schema: Type[BaseTool] = Mult_input\n",
    "\n",
    "    def _run(self,a:int, b:int) -> int :\n",
    "        return a*b"
   ]
  },
  {
   "cell_type": "code",
   "execution_count": 33,
   "id": "616e9cc0",
   "metadata": {},
   "outputs": [],
   "source": [
    "MultTool = Mult_Tool()"
   ]
  },
  {
   "cell_type": "code",
   "execution_count": 35,
   "id": "62b039ef",
   "metadata": {},
   "outputs": [
    {
     "name": "stdout",
     "output_type": "stream",
     "text": [
      "364\n",
      "('Multiply',)\n",
      "('Multiply two numbers.',)\n",
      "{'a': {'description': 'The first no. to add', 'required': True, 'title': 'A', 'type': 'integer'}, 'b': {'description': 'The second no. to add', 'required': True, 'title': 'B', 'type': 'integer'}}\n"
     ]
    }
   ],
   "source": [
    "result = MultTool.invoke({'a':4,'b':91})\n",
    "\n",
    "print(result)\n",
    "print(MultTool.name)\n",
    "print(MultTool.description)\n",
    "print(MultTool.args)"
   ]
  },
  {
   "cell_type": "code",
   "execution_count": null,
   "id": "a067538b",
   "metadata": {},
   "outputs": [],
   "source": []
  },
  {
   "cell_type": "markdown",
   "id": "0b4ea7b4",
   "metadata": {},
   "source": [
    "## ToolKit"
   ]
  },
  {
   "cell_type": "code",
   "execution_count": 37,
   "id": "217137b7",
   "metadata": {},
   "outputs": [],
   "source": [
    "from langchain_core.tools import tool\n",
    "\n",
    "# custom tools\n",
    "@tool\n",
    "def Add(a:int, b:int) -> int:\n",
    "    '''-----Add two numbers.----- '''\n",
    "    return a+b\n",
    "\n",
    "@tool\n",
    "def Mult(a:int, b:int) -> int:\n",
    "    '''-----Multiply two numbers.----- '''\n",
    "    return a*b"
   ]
  },
  {
   "cell_type": "code",
   "execution_count": 38,
   "id": "24b87e52",
   "metadata": {},
   "outputs": [],
   "source": [
    "class MathToolkit:\n",
    "    def get_tools(self):\n",
    "        return [Add, Mult]"
   ]
  },
  {
   "cell_type": "code",
   "execution_count": 39,
   "id": "193d74f4",
   "metadata": {},
   "outputs": [
    {
     "name": "stdout",
     "output_type": "stream",
     "text": [
      "Add => -----Add two numbers.-----\n",
      "Mult => -----Multiply two numbers.-----\n"
     ]
    }
   ],
   "source": [
    "toolkit =  MathToolkit()\n",
    "tools = toolkit.get_tools()\n",
    "\n",
    "for tool in tools:\n",
    "    print(tool.name, '=>', tool.description)"
   ]
  },
  {
   "cell_type": "code",
   "execution_count": null,
   "id": "53b87521",
   "metadata": {},
   "outputs": [],
   "source": []
  }
 ],
 "metadata": {
  "kernelspec": {
   "display_name": "base",
   "language": "python",
   "name": "python3"
  },
  "language_info": {
   "codemirror_mode": {
    "name": "ipython",
    "version": 3
   },
   "file_extension": ".py",
   "mimetype": "text/x-python",
   "name": "python",
   "nbconvert_exporter": "python",
   "pygments_lexer": "ipython3",
   "version": "3.12.7"
  }
 },
 "nbformat": 4,
 "nbformat_minor": 5
}
