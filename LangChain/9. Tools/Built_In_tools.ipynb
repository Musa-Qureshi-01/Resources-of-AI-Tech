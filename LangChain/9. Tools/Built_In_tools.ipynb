{
 "cells": [
  {
   "cell_type": "markdown",
   "id": "6d0c1ec1",
   "metadata": {},
   "source": [
    "DuckDuckGO"
   ]
  },
  {
   "cell_type": "code",
   "execution_count": 4,
   "id": "be4128fb",
   "metadata": {},
   "outputs": [
    {
     "name": "stderr",
     "output_type": "stream",
     "text": [
      "c:\\Users\\musaq\\anaconda3\\Lib\\site-packages\\langchain_community\\utilities\\duckduckgo_search.py:63: RuntimeWarning: This package (`duckduckgo_search`) has been renamed to `ddgs`! Use `pip install ddgs` instead.\n",
      "  with DDGS() as ddgs:\n"
     ]
    },
    {
     "name": "stdout",
     "output_type": "stream",
     "text": [
      "Jul 31, 2025 · TechCrunch covers the latest news and analysis in Generative AI (GenAI). Read the latest on startups and founders … Mar 7, 2025 · Explore the transformative world of Generative AI, a cutting-edge technology revolutionising content … Aug 12, 2025 · Indian GenAI startups witnessed a funding surge, securing $524 million in the first seven months of 2025, … May 6, 2025 · GenAI Today explores how generative AI and related technologies impact business operations and … Jul 29, 2024 · At least 30% of generative AI (GenAI) projects will be abandoned after proof of concept by the end of 2025, due …\n"
     ]
    }
   ],
   "source": [
    "from langchain_community.tools import DuckDuckGoSearchRun\n",
    "\n",
    "search_tool = DuckDuckGoSearchRun()\n",
    "results = search_tool.invoke('GenAI News')\n",
    "\n",
    "print(results)"
   ]
  },
  {
   "cell_type": "markdown",
   "id": "8c120f8b",
   "metadata": {},
   "source": [
    "Shell_Tool"
   ]
  },
  {
   "cell_type": "code",
   "execution_count": 8,
   "id": "5a517f26",
   "metadata": {},
   "outputs": [],
   "source": [
    "# !pip install langchain_experimental"
   ]
  },
  {
   "cell_type": "code",
   "execution_count": 7,
   "id": "a15d19d2",
   "metadata": {},
   "outputs": [
    {
     "name": "stderr",
     "output_type": "stream",
     "text": [
      "c:\\Users\\musaq\\anaconda3\\Lib\\site-packages\\langchain_community\\tools\\shell\\tool.py:33: UserWarning: The shell tool has no safeguards by default. Use at your own risk.\n",
      "  warnings.warn(\n"
     ]
    },
    {
     "name": "stdout",
     "output_type": "stream",
     "text": [
      "Executing command:\n",
      " ls\n",
      "Built_In_tools.ipynb\n",
      "\n"
     ]
    }
   ],
   "source": [
    "from langchain_community.tools import ShellTool\n",
    "shell_tool = ShellTool()\n",
    "\n",
    "results  =  shell_tool.invoke('ls')\n",
    "# whoami, ls \n",
    "print(results)"
   ]
  },
  {
   "cell_type": "code",
   "execution_count": 9,
   "id": "c7c1de27",
   "metadata": {},
   "outputs": [
    {
     "name": "stdout",
     "output_type": "stream",
     "text": [
      "duckduckgo_search\n",
      "A wrapper around DuckDuckGo Search. Useful for when you need to answer questions about current events. Input should be a search query.\n",
      "{'query': {'description': 'search query to look up', 'title': 'Query', 'type': 'string'}}\n"
     ]
    }
   ],
   "source": [
    "print(search_tool.name)\n",
    "print(search_tool.description)\n",
    "print(search_tool.args)"
   ]
  },
  {
   "cell_type": "code",
   "execution_count": 10,
   "id": "97988132",
   "metadata": {},
   "outputs": [
    {
     "name": "stdout",
     "output_type": "stream",
     "text": [
      "terminal\n",
      "Run shell commands on this Windows machine.\n",
      "{'commands': {'anyOf': [{'type': 'string'}, {'items': {'type': 'string'}, 'type': 'array'}], 'description': 'List of shell commands to run. Deserialized using json.loads', 'title': 'Commands'}}\n"
     ]
    }
   ],
   "source": [
    "print(shell_tool.name)\n",
    "print(shell_tool.description)\n",
    "print(shell_tool.args)"
   ]
  },
  {
   "cell_type": "code",
   "execution_count": null,
   "id": "027532d7",
   "metadata": {},
   "outputs": [],
   "source": []
  }
 ],
 "metadata": {
  "kernelspec": {
   "display_name": "base",
   "language": "python",
   "name": "python3"
  },
  "language_info": {
   "codemirror_mode": {
    "name": "ipython",
    "version": 3
   },
   "file_extension": ".py",
   "mimetype": "text/x-python",
   "name": "python",
   "nbconvert_exporter": "python",
   "pygments_lexer": "ipython3",
   "version": "3.12.7"
  }
 },
 "nbformat": 4,
 "nbformat_minor": 5
}
