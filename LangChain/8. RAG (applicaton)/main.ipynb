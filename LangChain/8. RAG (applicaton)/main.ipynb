{
 "cells": [
  {
   "cell_type": "code",
   "execution_count": 7,
   "id": "21ea4f03",
   "metadata": {},
   "outputs": [],
   "source": [
    "!pip install -q youtube-transcript-api faiss-cpu tiktoken langchain"
   ]
  },
  {
   "cell_type": "code",
   "execution_count": 20,
   "id": "9e30c470",
   "metadata": {},
   "outputs": [],
   "source": [
    "# from youtube_transcript_api import YouTubeTranscriptApi, TranscriptsDisabled\n",
    "from youtube_transcript_api import YouTubeTranscriptApi\n",
    "from youtube_transcript_api._errors import TranscriptsDisabled\n",
    "from langchain.text_splitter import RecursiveCharacterTextSplitter\n",
    "from langchain_community.vectorstores import FAISS\n",
    "from langchain_core.prompts import PromptTemplate\n",
    "from langchain_google_genai import ChatGoogleGenerativeAI\n",
    "from dotenv import load_dotenv\n",
    " \n",
    "load_dotenv()\n",
    "model1 = ChatGoogleGenerativeAI(model=\"gemini-1.5-flash\") "
   ]
  },
  {
   "cell_type": "markdown",
   "id": "2676d7ce",
   "metadata": {},
   "source": [
    "### **Indexing - step-1**"
   ]
  },
  {
   "cell_type": "code",
   "execution_count": 26,
   "id": "a7add206",
   "metadata": {},
   "outputs": [
    {
     "name": "stdout",
     "output_type": "stream",
     "text": [
      "⚠️ Error: type object 'YouTubeTranscriptApi' has no attribute 'get_transcript'\n"
     ]
    }
   ],
   "source": [
    "video_id = \"1XhDHwRg0I\"\n",
    "\n",
    "try:\n",
    "    transcript_list = YouTubeTranscriptApi.get_transcript(video_id, languages=[\"en\"])\n",
    "    transcript = \" \".join(chunk[\"text\"] for chunk in transcript_list)\n",
    "    print(\"Transcript:\\n\")\n",
    "    print(transcript)\n",
    "\n",
    "except TranscriptsDisabled:\n",
    "    print(\"❌ No captions are available for this video.\")\n",
    "except Exception as e:\n",
    "    print(\"⚠️ Error:\", e)"
   ]
  },
  {
   "cell_type": "code",
   "execution_count": null,
   "id": "d0170813",
   "metadata": {},
   "outputs": [
    {
     "name": "stdout",
     "output_type": "stream",
     "text": [
      "Name: youtube-transcript-api\n",
      "Version: 0.6.1\n",
      "Summary: This is an python API which allows you to get the transcripts/subtitles for a given YouTube video. It also works for automatically generated subtitles, supports translating subtitles and it does not require a headless browser, like other selenium based solutions do!\n",
      "Home-page: https://github.com/jdepoix/youtube-transcript-api\n",
      "Author: Jonas Depoix\n",
      "Author-email: jonas.depoix@web.de\n",
      "License: UNKNOWN\n",
      "Location: C:\\Users\\musaq\\anaconda3\\Lib\\site-packages\n",
      "Requires: requests\n",
      "Required-by: \n"
     ]
    }
   ],
   "source": [
    "# !pip show youtube-transcript-api\n"
   ]
  },
  {
   "cell_type": "code",
   "execution_count": 25,
   "id": "f1490243",
   "metadata": {},
   "outputs": [],
   "source": [
    "# import youtube_transcript_api\n",
    "# print(dir(youtube_transcript_api.YouTubeTranscriptApi))\n"
   ]
  },
  {
   "cell_type": "code",
   "execution_count": 30,
   "id": "c24cd972",
   "metadata": {},
   "outputs": [
    {
     "name": "stdout",
     "output_type": "stream",
     "text": [
      "⚠️ Error: type object 'YouTubeTranscriptApi' has no attribute 'get_transcript'\n"
     ]
    }
   ],
   "source": [
    "from youtube_transcript_api import YouTubeTranscriptApi, TranscriptsDisabled\n",
    "\n",
    "\n",
    "video_id = \"xAt1xcC6qfM\"\n",
    "\n",
    "try:\n",
    "    transcript_list = YouTubeTranscriptApi.get_transcript(video_id, languages=[\"en\"])\n",
    "    transcript = \" \".join(chunk[\"text\"] for chunk in transcript_list)\n",
    "    print(\"Transcript:\\n\")\n",
    "    print(transcript)\n",
    "\n",
    "except TranscriptsDisabled:\n",
    "    print(\"❌ No captions are available for this video.\")\n",
    "except Exception as e:\n",
    "    print(\"⚠️ Error:\", e)\n"
   ]
  },
  {
   "cell_type": "code",
   "execution_count": null,
   "id": "59abc7a0",
   "metadata": {},
   "outputs": [],
   "source": []
  }
 ],
 "metadata": {
  "kernelspec": {
   "display_name": "base",
   "language": "python",
   "name": "python3"
  },
  "language_info": {
   "codemirror_mode": {
    "name": "ipython",
    "version": 3
   },
   "file_extension": ".py",
   "mimetype": "text/x-python",
   "name": "python",
   "nbconvert_exporter": "python",
   "pygments_lexer": "ipython3",
   "version": "3.12.7"
  }
 },
 "nbformat": 4,
 "nbformat_minor": 5
}
