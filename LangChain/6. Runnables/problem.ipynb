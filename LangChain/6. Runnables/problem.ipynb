{
 "cells": [
  {
   "cell_type": "code",
   "execution_count": 9,
   "id": "8aca2739",
   "metadata": {},
   "outputs": [
    {
     "name": "stdout",
     "output_type": "stream",
     "text": [
      "Llm Created\n"
     ]
    },
    {
     "data": {
      "text/plain": [
       "{'response': 'Urdu is heart of poetry.'}"
      ]
     },
     "execution_count": 9,
     "metadata": {},
     "output_type": "execute_result"
    }
   ],
   "source": [
    "import random\n",
    "\n",
    "class FakeLlm:\n",
    "\n",
    "    def __init__(self):\n",
    "        print('Llm Created')\n",
    "\n",
    "    def predict(self, prompt):\n",
    "        \n",
    "        response_list = [\n",
    "        \"Delhi is the capital of India.\",\n",
    "        \"IPL is a cricket team.\",\n",
    "        \"Urdu is heart of poetry.\"\n",
    "    ]\n",
    "    \n",
    "        return {'response': random.choice(response_list)}\n",
    "\n",
    "llm = FakeLlm()\n",
    "llm.predict('What is capital of india.')"
   ]
  },
  {
   "cell_type": "code",
   "execution_count": 10,
   "id": "792bf95f",
   "metadata": {},
   "outputs": [],
   "source": [
    "class FakeTemplate:\n",
    "\n",
    "    def __init__(self, template,input_var):\n",
    "        self.template = template \n",
    "        self.input_var = input_var\n",
    "\n",
    "    def format(self, input_dict):\n",
    "        return self.template.format(**input_dict)\n",
    "    \n",
    "\n",
    "template = FakeTemplate(\n",
    "    template = 'Write a {length} poem on the {topic}',\n",
    "    input_var = ['length', 'topic']\n",
    ")\n",
    "\n",
    "prompt = template.format({'length':'Medium', 'topic':'India'})\n"
   ]
  },
  {
   "cell_type": "code",
   "execution_count": 11,
   "id": "ccda4e42",
   "metadata": {},
   "outputs": [
    {
     "name": "stdout",
     "output_type": "stream",
     "text": [
      "Llm Created\n"
     ]
    }
   ],
   "source": [
    "llm = FakeLlm()"
   ]
  },
  {
   "cell_type": "code",
   "execution_count": 12,
   "id": "d8cde891",
   "metadata": {},
   "outputs": [
    {
     "data": {
      "text/plain": [
       "{'response': 'Delhi is the capital of India.'}"
      ]
     },
     "execution_count": 12,
     "metadata": {},
     "output_type": "execute_result"
    }
   ],
   "source": [
    "llm.predict(prompt)"
   ]
  },
  {
   "cell_type": "code",
   "execution_count": 13,
   "id": "e913060d",
   "metadata": {},
   "outputs": [],
   "source": [
    "class FakeChain:\n",
    "    def __init__ (self):\n",
    "        self.llm = llm\n",
    "        self.prompt = prompt\n",
    "\n",
    "    def run(self, input_dict):\n",
    "        final_p = self.prompt.format(input_dict)\n",
    "        result = self.predict(final_p)\n",
    "\n",
    "        return result['response']\n",
    "    "
   ]
  },
  {
   "cell_type": "code",
   "execution_count": 14,
   "id": "d851a6fa",
   "metadata": {},
   "outputs": [],
   "source": [
    "template = FakeTemplate(\n",
    "    template = 'Write a {length} poem on the {topic}',\n",
    "    input_var = ['length', 'topic']\n",
    ")"
   ]
  },
  {
   "cell_type": "code",
   "execution_count": null,
   "id": "165d2bd9",
   "metadata": {},
   "outputs": [],
   "source": []
  }
 ],
 "metadata": {
  "kernelspec": {
   "display_name": "base",
   "language": "python",
   "name": "python3"
  },
  "language_info": {
   "codemirror_mode": {
    "name": "ipython",
    "version": 3
   },
   "file_extension": ".py",
   "mimetype": "text/x-python",
   "name": "python",
   "nbconvert_exporter": "python",
   "pygments_lexer": "ipython3",
   "version": "3.12.7"
  }
 },
 "nbformat": 4,
 "nbformat_minor": 5
}
