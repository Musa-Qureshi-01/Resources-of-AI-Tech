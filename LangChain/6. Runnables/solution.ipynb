{
 "cells": [
  {
   "cell_type": "code",
   "execution_count": 1,
   "id": "8018bb8c",
   "metadata": {},
   "outputs": [],
   "source": [
    "from abc import ABC, abstractmethod"
   ]
  },
  {
   "cell_type": "code",
   "execution_count": 9,
   "id": "cff9ea3c",
   "metadata": {},
   "outputs": [],
   "source": [
    "class Runnable(ABC):\n",
    "\n",
    "    @abstractmethod\n",
    "    def invoke(input_data):\n",
    "        pass"
   ]
  },
  {
   "cell_type": "code",
   "execution_count": 101,
   "id": "9d7ff66f",
   "metadata": {},
   "outputs": [
    {
     "name": "stdout",
     "output_type": "stream",
     "text": [
      "Llm Created\n"
     ]
    },
    {
     "data": {
      "text/plain": [
       "{'response': 'Urdu is heart of poetry.'}"
      ]
     },
     "execution_count": 101,
     "metadata": {},
     "output_type": "execute_result"
    }
   ],
   "source": [
    "import random\n",
    "\n",
    "class FakeLlm(Runnable):\n",
    "\n",
    "    def __init__(self):\n",
    "        print('Llm Created')\n",
    "\n",
    "    def invoke(self, prompt):\n",
    "        response_list = [\n",
    "        \"Delhi is the capital of India.\",\n",
    "        \"IPL is a cricket team.\",\n",
    "        \"Urdu is heart of poetry.\"\n",
    "    ]\n",
    "    \n",
    "        return {'response': random.choice(response_list)}\n",
    "\n",
    "    def predict(self, prompt):\n",
    "        \n",
    "        response_list = [\n",
    "        \"Delhi is the capital of India.\",\n",
    "        \"IPL is a cricket team.\",\n",
    "        \"Urdu is heart of poetry.\"\n",
    "    ]\n",
    "    \n",
    "        return {'response': random.choice(response_list)}\n",
    "\n",
    "llm = FakeLlm()\n",
    "llm.predict('What is the value of poetry.')"
   ]
  },
  {
   "cell_type": "code",
   "execution_count": 102,
   "id": "e2ab518e",
   "metadata": {},
   "outputs": [],
   "source": [
    "class FakeTemplate(Runnable):\n",
    "\n",
    "    def __init__(self, template,input_var):\n",
    "        self.template = template \n",
    "        self.input_var = input_var\n",
    "\n",
    "    def invoke(self, input_dict):\n",
    "        return self.template.format(**input_dict)\n",
    "\n",
    "    def format(self, input_dict):\n",
    "        return self.template.format(**input_dict)\n",
    "\n",
    "\n",
    "\n",
    "template = FakeTemplate(\n",
    "    template = 'Write a {length} poem on the {topic}',\n",
    "    input_var = ['length', 'topic']\n",
    ")\n",
    "\n",
    "prompt = template.format({'length':'Medium', 'topic':'Poetry'})\n"
   ]
  },
  {
   "cell_type": "code",
   "execution_count": 103,
   "id": "6c5ba498",
   "metadata": {},
   "outputs": [
    {
     "name": "stdout",
     "output_type": "stream",
     "text": [
      "Llm Created\n"
     ]
    }
   ],
   "source": [
    "llm = FakeLlm()"
   ]
  },
  {
   "cell_type": "code",
   "execution_count": 104,
   "id": "3ac381a5",
   "metadata": {},
   "outputs": [
    {
     "data": {
      "text/plain": [
       "{'response': 'Delhi is the capital of India.'}"
      ]
     },
     "execution_count": 104,
     "metadata": {},
     "output_type": "execute_result"
    }
   ],
   "source": [
    "llm.predict(prompt)"
   ]
  },
  {
   "cell_type": "code",
   "execution_count": 105,
   "id": "67a53926",
   "metadata": {},
   "outputs": [
    {
     "data": {
      "text/plain": [
       "<__main__.FakeParser at 0x2026c84cad0>"
      ]
     },
     "execution_count": 105,
     "metadata": {},
     "output_type": "execute_result"
    }
   ],
   "source": [
    "class FakeParser(Runnable):\n",
    "\n",
    "    def __init__(self):\n",
    "        pass\n",
    "    def invoke(self, input_data):\n",
    "        return input_data['response']\n",
    "    \n",
    "FakeParser()"
   ]
  },
  {
   "cell_type": "code",
   "execution_count": 106,
   "id": "803af5b8",
   "metadata": {},
   "outputs": [],
   "source": [
    "class FakeChain:\n",
    "    def __init__ (self):\n",
    "        self.llm = llm\n",
    "        self.prompt = prompt\n",
    "\n",
    "    def run(self, input_dict):\n",
    "        final_p = self.prompt.format(input_dict)\n",
    "        result = self.predict(final_p)\n",
    "\n",
    "        return result['response']\n",
    "    "
   ]
  },
  {
   "cell_type": "code",
   "execution_count": 107,
   "id": "80c60a5b",
   "metadata": {},
   "outputs": [],
   "source": [
    "template = FakeTemplate(\n",
    "    template = 'Write a {length} poem on the {topic}',\n",
    "    input_var = ['length', 'topic']\n",
    ")"
   ]
  },
  {
   "cell_type": "code",
   "execution_count": 108,
   "id": "40612a1b",
   "metadata": {},
   "outputs": [],
   "source": [
    "class RunnableConnector(Runnable):\n",
    "    def __init__(self, runnable_list):\n",
    "        self.runnable_list = runnable_list\n",
    "\n",
    "    def invoke(self, input_data):\n",
    "        for runnable in self.runnable_list:\n",
    "            input_data = runnable.invoke(input_data)\n",
    "\n",
    "        return input_data\n",
    "\n"
   ]
  },
  {
   "cell_type": "code",
   "execution_count": 109,
   "id": "30f7ee09",
   "metadata": {},
   "outputs": [
    {
     "name": "stdout",
     "output_type": "stream",
     "text": [
      "Llm Created\n"
     ]
    }
   ],
   "source": [
    "llm = FakeLlm()"
   ]
  },
  {
   "cell_type": "code",
   "execution_count": 110,
   "id": "16f03c52",
   "metadata": {},
   "outputs": [],
   "source": [
    "parser = FakeParser()"
   ]
  },
  {
   "cell_type": "code",
   "execution_count": 111,
   "id": "3cce2b5d",
   "metadata": {},
   "outputs": [],
   "source": [
    "chain = RunnableConnector([template, llm, parser ])"
   ]
  },
  {
   "cell_type": "code",
   "execution_count": 112,
   "id": "59ce735e",
   "metadata": {},
   "outputs": [
    {
     "data": {
      "text/plain": [
       "'IPL is a cricket team.'"
      ]
     },
     "execution_count": 112,
     "metadata": {},
     "output_type": "execute_result"
    }
   ],
   "source": [
    "chain.invoke({'length':'long','topic':'Poetry'})"
   ]
  },
  {
   "cell_type": "code",
   "execution_count": 113,
   "id": "87784fc6",
   "metadata": {},
   "outputs": [],
   "source": [
    "template1 = FakeTemplate(\n",
    "    template = 'Write a joke on {topic}',\n",
    "    input_var = ['topic']\n",
    ")"
   ]
  },
  {
   "cell_type": "code",
   "execution_count": 114,
   "id": "6bd170b7",
   "metadata": {},
   "outputs": [],
   "source": [
    "template2 = FakeTemplate(\n",
    "    template = 'Explain the {topic} joke.',\n",
    "    input_var = ['topic']\n",
    ")"
   ]
  },
  {
   "cell_type": "code",
   "execution_count": 115,
   "id": "421634be",
   "metadata": {},
   "outputs": [
    {
     "name": "stdout",
     "output_type": "stream",
     "text": [
      "Llm Created\n"
     ]
    }
   ],
   "source": [
    "llm = FakeLlm()"
   ]
  },
  {
   "cell_type": "code",
   "execution_count": 116,
   "id": "4e6ac422",
   "metadata": {},
   "outputs": [],
   "source": [
    "parser = FakeParser()"
   ]
  },
  {
   "cell_type": "code",
   "execution_count": 117,
   "id": "97f4c9a0",
   "metadata": {},
   "outputs": [],
   "source": [
    "chain1 = RunnableConnector([template1, llm])\n"
   ]
  },
  {
   "cell_type": "code",
   "execution_count": 118,
   "id": "8f73c3bc",
   "metadata": {},
   "outputs": [
    {
     "data": {
      "text/plain": [
       "{'response': 'IPL is a cricket team.'}"
      ]
     },
     "execution_count": 118,
     "metadata": {},
     "output_type": "execute_result"
    }
   ],
   "source": [
    "chain1.invoke({'topic':'AI'})"
   ]
  },
  {
   "cell_type": "code",
   "execution_count": 119,
   "id": "1b99e749",
   "metadata": {},
   "outputs": [],
   "source": [
    "chain2 = RunnableConnector([template2, llm, parser])\n"
   ]
  },
  {
   "cell_type": "code",
   "execution_count": 120,
   "id": "7475516f",
   "metadata": {},
   "outputs": [],
   "source": [
    "final_chain = RunnableConnector([chain1, chain2])"
   ]
  },
  {
   "cell_type": "code",
   "execution_count": 121,
   "id": "f5d39dc4",
   "metadata": {},
   "outputs": [
    {
     "ename": "KeyError",
     "evalue": "'topic'",
     "output_type": "error",
     "traceback": [
      "\u001b[1;31m---------------------------------------------------------------------------\u001b[0m",
      "\u001b[1;31mKeyError\u001b[0m                                  Traceback (most recent call last)",
      "Cell \u001b[1;32mIn[121], line 1\u001b[0m\n\u001b[1;32m----> 1\u001b[0m final_chain\u001b[38;5;241m.\u001b[39minvoke({\u001b[38;5;124m'\u001b[39m\u001b[38;5;124mtopic\u001b[39m\u001b[38;5;124m'\u001b[39m:\u001b[38;5;124m'\u001b[39m\u001b[38;5;124mPoetry\u001b[39m\u001b[38;5;124m'\u001b[39m})\n",
      "Cell \u001b[1;32mIn[108], line 7\u001b[0m, in \u001b[0;36mRunnableConnector.invoke\u001b[1;34m(self, input_data)\u001b[0m\n\u001b[0;32m      5\u001b[0m \u001b[38;5;28;01mdef\u001b[39;00m \u001b[38;5;21minvoke\u001b[39m(\u001b[38;5;28mself\u001b[39m, input_data):\n\u001b[0;32m      6\u001b[0m     \u001b[38;5;28;01mfor\u001b[39;00m runnable \u001b[38;5;129;01min\u001b[39;00m \u001b[38;5;28mself\u001b[39m\u001b[38;5;241m.\u001b[39mrunnable_list:\n\u001b[1;32m----> 7\u001b[0m         input_data \u001b[38;5;241m=\u001b[39m runnable\u001b[38;5;241m.\u001b[39minvoke(input_data)\n\u001b[0;32m      9\u001b[0m     \u001b[38;5;28;01mreturn\u001b[39;00m input_data\n",
      "Cell \u001b[1;32mIn[108], line 7\u001b[0m, in \u001b[0;36mRunnableConnector.invoke\u001b[1;34m(self, input_data)\u001b[0m\n\u001b[0;32m      5\u001b[0m \u001b[38;5;28;01mdef\u001b[39;00m \u001b[38;5;21minvoke\u001b[39m(\u001b[38;5;28mself\u001b[39m, input_data):\n\u001b[0;32m      6\u001b[0m     \u001b[38;5;28;01mfor\u001b[39;00m runnable \u001b[38;5;129;01min\u001b[39;00m \u001b[38;5;28mself\u001b[39m\u001b[38;5;241m.\u001b[39mrunnable_list:\n\u001b[1;32m----> 7\u001b[0m         input_data \u001b[38;5;241m=\u001b[39m runnable\u001b[38;5;241m.\u001b[39minvoke(input_data)\n\u001b[0;32m      9\u001b[0m     \u001b[38;5;28;01mreturn\u001b[39;00m input_data\n",
      "Cell \u001b[1;32mIn[102], line 8\u001b[0m, in \u001b[0;36mFakeTemplate.invoke\u001b[1;34m(self, input_dict)\u001b[0m\n\u001b[0;32m      7\u001b[0m \u001b[38;5;28;01mdef\u001b[39;00m \u001b[38;5;21minvoke\u001b[39m(\u001b[38;5;28mself\u001b[39m, input_dict):\n\u001b[1;32m----> 8\u001b[0m     \u001b[38;5;28;01mreturn\u001b[39;00m \u001b[38;5;28mself\u001b[39m\u001b[38;5;241m.\u001b[39mtemplate\u001b[38;5;241m.\u001b[39mformat(\u001b[38;5;241m*\u001b[39m\u001b[38;5;241m*\u001b[39minput_dict)\n",
      "\u001b[1;31mKeyError\u001b[0m: 'topic'"
     ]
    }
   ],
   "source": [
    "final_chain.invoke({'topic':'Poetry'})"
   ]
  },
  {
   "cell_type": "code",
   "execution_count": null,
   "id": "203241e0",
   "metadata": {},
   "outputs": [],
   "source": []
  }
 ],
 "metadata": {
  "kernelspec": {
   "display_name": "base",
   "language": "python",
   "name": "python3"
  },
  "language_info": {
   "codemirror_mode": {
    "name": "ipython",
    "version": 3
   },
   "file_extension": ".py",
   "mimetype": "text/x-python",
   "name": "python",
   "nbconvert_exporter": "python",
   "pygments_lexer": "ipython3",
   "version": "3.12.7"
  }
 },
 "nbformat": 4,
 "nbformat_minor": 5
}
