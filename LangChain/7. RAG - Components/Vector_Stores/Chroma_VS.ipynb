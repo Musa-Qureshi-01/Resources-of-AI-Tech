{
 "cells": [
  {
   "cell_type": "code",
   "execution_count": 12,
   "id": "d6df9eab",
   "metadata": {},
   "outputs": [],
   "source": [
    "from langchain_google_genai import GoogleGenerativeAIEmbeddings\n",
    "from langchain.vectorstores import Chroma\n",
    "\n",
    "# Initialize embeddings\n",
    "embeddings = GoogleGenerativeAIEmbeddings(model=\"models/embedding-001\")"
   ]
  },
  {
   "cell_type": "code",
   "execution_count": 13,
   "id": "f1a6915b",
   "metadata": {},
   "outputs": [],
   "source": [
    "from langchain.schema import Document\n",
    "\n",
    "doc1 = Document(\n",
    "    page_content=\"Virat Kohli is a top-order batsman and former captain of the Indian cricket team.\",\n",
    "    metadata={\"team\": \"RCB\"}\n",
    ")\n",
    "\n",
    "doc2 = Document(\n",
    "    page_content=\"Rashid Khan is a spin bowler from Afghanistan, playing for Gujarat Titans in IPL.\",\n",
    "    metadata={\"team\": \"Gujarat Titans\"}\n",
    ")\n",
    "\n",
    "doc3 = Document(\n",
    "    page_content=\"MS Dhoni is a legendary wicket-keeper batsman and former captain of Chennai Super Kings.\",\n",
    "    metadata={\"team\": \"CSK\"}\n",
    ")\n",
    "\n",
    "doc4 = Document(\n",
    "    page_content=\"Jasprit Bumrah is a fast bowler known for his yorkers and death over skills, playing for Mumbai Indians.\",\n",
    "    metadata={\"team\": \"MI\"}\n",
    ")\n",
    "\n",
    "doc5 = Document(\n",
    "    page_content=\"Ruturaj Gaikwad is an opening batsman for Chennai Super Kings, known for his consistent performances.\",\n",
    "    metadata={\"team\": \"CSK\"}\n",
    ")\n"
   ]
  },
  {
   "cell_type": "code",
   "execution_count": 14,
   "id": "6a0247d2",
   "metadata": {},
   "outputs": [],
   "source": [
    "all_docs = [doc1, doc2, doc3, doc4, doc5]"
   ]
  },
  {
   "cell_type": "code",
   "execution_count": 15,
   "id": "f16d3ba3",
   "metadata": {},
   "outputs": [
    {
     "name": "stderr",
     "output_type": "stream",
     "text": [
      "C:\\Users\\musaq\\AppData\\Local\\Temp\\ipykernel_18324\\2573419106.py:1: LangChainDeprecationWarning: The class `Chroma` was deprecated in LangChain 0.2.9 and will be removed in 1.0. An updated version of the class exists in the :class:`~langchain-chroma package and should be used instead. To use it run `pip install -U :class:`~langchain-chroma` and import as `from :class:`~langchain_chroma import Chroma``.\n",
      "  vector_store = Chroma(\n"
     ]
    }
   ],
   "source": [
    "vector_store = Chroma(\n",
    "    embedding_function = embeddings,\n",
    "    persist_directory = 'chroma_db',\n",
    "    collection_name = 'sample'\n",
    ")"
   ]
  },
  {
   "cell_type": "code",
   "execution_count": 16,
   "id": "65541516",
   "metadata": {},
   "outputs": [
    {
     "data": {
      "text/plain": [
       "['9007adea-da98-4ab0-850f-dacd6c547aa9',\n",
       " '2e253c56-ffcd-4f73-98e4-9ee527134021',\n",
       " '1d0775a5-af6d-404a-b049-2314759c4997',\n",
       " '49eb6719-4d1d-486b-9a78-74fc4f4003af',\n",
       " 'd37d0758-c9db-46b8-83ed-3f80bfc1a56d']"
      ]
     },
     "execution_count": 16,
     "metadata": {},
     "output_type": "execute_result"
    }
   ],
   "source": [
    "vector_store.add_documents(all_docs)"
   ]
  },
  {
   "cell_type": "code",
   "execution_count": null,
   "id": "461c69fd",
   "metadata": {},
   "outputs": [
    {
     "data": {
      "text/plain": [
       "{'ids': ['9007adea-da98-4ab0-850f-dacd6c547aa9',\n",
       "  '2e253c56-ffcd-4f73-98e4-9ee527134021',\n",
       "  '1d0775a5-af6d-404a-b049-2314759c4997',\n",
       "  '49eb6719-4d1d-486b-9a78-74fc4f4003af',\n",
       "  'd37d0758-c9db-46b8-83ed-3f80bfc1a56d'],\n",
       " 'embeddings': array([[ 0.04845272, -0.00422055, -0.0312104 , ...,  0.02793895,\n",
       "         -0.01610248, -0.00073115],\n",
       "        [ 0.02415878, -0.03045269, -0.039539  , ...,  0.03537813,\n",
       "          0.01115796, -0.00096566],\n",
       "        [ 0.03418536,  0.0035417 , -0.04256814, ..., -0.00803938,\n",
       "         -0.04905061, -0.00615374],\n",
       "        [ 0.00905159, -0.04480756, -0.04521427, ...,  0.03490768,\n",
       "         -0.00650572,  0.02183378],\n",
       "        [ 0.02743414, -0.0205867 , -0.02255099, ...,  0.00701175,\n",
       "         -0.01863282, -0.01126315]]),\n",
       " 'documents': ['Virat Kohli is a top-order batsman and former captain of the Indian cricket team.',\n",
       "  'Rashid Khan is a spin bowler from Afghanistan, playing for Gujarat Titans in IPL.',\n",
       "  'MS Dhoni is a legendary wicket-keeper batsman and former captain of Chennai Super Kings.',\n",
       "  'Jasprit Bumrah is a fast bowler known for his yorkers and death over skills, playing for Mumbai Indians.',\n",
       "  'Ruturaj Gaikwad is an opening batsman for Chennai Super Kings, known for his consistent performances.'],\n",
       " 'uris': None,\n",
       " 'included': ['embeddings', 'documents', 'metadatas'],\n",
       " 'data': None,\n",
       " 'metadatas': [{'team': 'RCB'},\n",
       "  {'team': 'Gujarat Titans'},\n",
       "  {'team': 'CSK'},\n",
       "  {'team': 'MI'},\n",
       "  {'team': 'CSK'}]}"
      ]
     },
     "execution_count": 17,
     "metadata": {},
     "output_type": "execute_result"
    }
   ],
   "source": [
    "# view \n",
    "vector_store.get(include=['embeddings','documents','metadatas'])"
   ]
  },
  {
   "cell_type": "code",
   "execution_count": 23,
   "id": "2b49219d",
   "metadata": {},
   "outputs": [
    {
     "data": {
      "text/plain": [
       "[Document(metadata={'team': 'RCB'}, page_content='Virat Kohli is a top-order batsman and former captain of the Indian cricket team.')]"
      ]
     },
     "execution_count": 23,
     "metadata": {},
     "output_type": "execute_result"
    }
   ],
   "source": [
    "# searh document \n",
    "\n",
    "vector_store.similarity_search(\n",
    "    query = 'who is from MI?',\n",
    "    k = 1\n",
    ")"
   ]
  },
  {
   "cell_type": "code",
   "execution_count": 24,
   "id": "5b1caa36",
   "metadata": {},
   "outputs": [
    {
     "data": {
      "text/plain": [
       "[(Document(metadata={'team': 'RCB'}, page_content='Virat Kohli is a top-order batsman and former captain of the Indian cricket team.'),\n",
       "  0.5547779202461243)]"
      ]
     },
     "execution_count": 24,
     "metadata": {},
     "output_type": "execute_result"
    }
   ],
   "source": [
    "\n",
    "vector_store.similarity_search_with_score(\n",
    "    query = 'who is from MI?',\n",
    "    k = 1\n",
    ")"
   ]
  },
  {
   "cell_type": "code",
   "execution_count": 32,
   "id": "36a9570e",
   "metadata": {},
   "outputs": [
    {
     "data": {
      "text/plain": [
       "[(Document(metadata={'team': 'MI'}, page_content='Jasprit Bumrah is a fast bowler known for his yorkers and death over skills, playing for Mumbai Indians.'),\n",
       "  0.5850940942764282)]"
      ]
     },
     "execution_count": 32,
     "metadata": {},
     "output_type": "execute_result"
    }
   ],
   "source": [
    "vector_store.similarity_search_with_score(\n",
    "    query = '',\n",
    "    k = 2,\n",
    "    filter = {'team':'MI'}\n",
    ")"
   ]
  },
  {
   "cell_type": "code",
   "execution_count": null,
   "id": "bcc44528",
   "metadata": {},
   "outputs": [],
   "source": [
    "# Update \n",
    "\n",
    "update_doc1 = Document(\n",
    "    page_content = ' ',\n",
    "    metadata = {}\n",
    ")\n",
    "vector_store.update_document(document_id = ' ', document = update_doc1 )"
   ]
  },
  {
   "cell_type": "code",
   "execution_count": null,
   "id": "d0d7e281",
   "metadata": {},
   "outputs": [],
   "source": []
  }
 ],
 "metadata": {
  "kernelspec": {
   "display_name": "base",
   "language": "python",
   "name": "python3"
  },
  "language_info": {
   "codemirror_mode": {
    "name": "ipython",
    "version": 3
   },
   "file_extension": ".py",
   "mimetype": "text/x-python",
   "name": "python",
   "nbconvert_exporter": "python",
   "pygments_lexer": "ipython3",
   "version": "3.12.7"
  }
 },
 "nbformat": 4,
 "nbformat_minor": 5
}
